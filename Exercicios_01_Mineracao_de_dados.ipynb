{
  "nbformat": 4,
  "nbformat_minor": 0,
  "metadata": {
    "colab": {
      "name": "Exercicios_01_Mineracao_de_dados.ipynb",
      "provenance": [],
      "authorship_tag": "ABX9TyN0ybFNC+2gP0Lmy5HZ1BGg",
      "include_colab_link": true
    },
    "kernelspec": {
      "name": "python3",
      "display_name": "Python 3"
    },
    "language_info": {
      "name": "python"
    }
  },
  "cells": [
    {
      "cell_type": "markdown",
      "metadata": {
        "id": "view-in-github",
        "colab_type": "text"
      },
      "source": [
        "<a href=\"https://colab.research.google.com/github/andersonmanhaes/mineracao_dados/blob/main/Exercicios_01_Mineracao_de_dados.ipynb\" target=\"_parent\"><img src=\"https://colab.research.google.com/assets/colab-badge.svg\" alt=\"Open In Colab\"/></a>"
      ]
    },
    {
      "cell_type": "markdown",
      "metadata": {
        "id": "0BesqcntG5UM"
      },
      "source": [
        "##How to use R and Python together in Colab\n",
        "\n",
        "1. Open your favorite browser.\n",
        "2. Create a new notebook: https://colab.research.google.com/#create=true.\n",
        "3. Run rmagic by executing this command %load_ext rpy2.ipython.\n",
        "4. After that, every time you want to use R, add %%R in the beginning of each cell."
      ]
    },
    {
      "cell_type": "code",
      "metadata": {
        "colab": {
          "base_uri": "https://localhost:8080/"
        },
        "id": "Dlz-JQOyG88D",
        "outputId": "836a3d96-f3a2-4bc4-dc6e-ef02e35be373"
      },
      "source": [
        "%load_ext rpy2.ipython"
      ],
      "execution_count": 3,
      "outputs": [
        {
          "output_type": "stream",
          "text": [
            "The rpy2.ipython extension is already loaded. To reload it, use:\n",
            "  %reload_ext rpy2.ipython\n"
          ],
          "name": "stdout"
        }
      ]
    },
    {
      "cell_type": "markdown",
      "metadata": {
        "id": "5F6CjFLfXpsj"
      },
      "source": [
        "### Exercise 1\n",
        "\n",
        "* Knowing that standard deviation of a sample is\n",
        "\n",
        "![Screenshot_1.png](data:image/png;base64,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)\n",
        "\n",
        "* using basic R commands: \n",
        "  * compute the standard deviation of a vector using iterations: for loop\n",
        "  * compute the standard deviation of a vector without using iterations\n",
        "  * discover R function to compute standard deviation\n",
        "\n"
      ]
    },
    {
      "cell_type": "code",
      "metadata": {
        "colab": {
          "base_uri": "https://localhost:8080/"
        },
        "id": "9sVFqf4ku-t7",
        "outputId": "92dd41f7-bc6f-4daf-d3d7-0071ba21613d"
      },
      "source": [
        "%%R\n",
        "\n",
        "vector <- c(6,2,3,1)\n",
        "\n",
        "average <- function(a) {\n",
        "    s <- 0\n",
        "    n <- length(a)\n",
        "    for (x in a) {\n",
        "        s <- s + x\n",
        "    }\n",
        "    return(s/n)\n",
        "}\n",
        "\n",
        "str_dev <- function(st_d) {\n",
        "    i <- 0\n",
        "    j <- length(st_d)\n",
        "    count <- 0\n",
        "    somat <- 0\n",
        "    for (i in j) {\n",
        "        dist <- abs(st_d - average(st_d))\n",
        "        qd_dist <- dist^2\n",
        "        somat <- sum(qd_dist)\n",
        "    }\n",
        "    return(sqrt(somat/j))\n",
        "}\n",
        "\n",
        "str_dev(vector)"
      ],
      "execution_count": 39,
      "outputs": [
        {
          "output_type": "stream",
          "text": [
            "[1] 1.870829\n"
          ],
          "name": "stdout"
        }
      ]
    },
    {
      "cell_type": "code",
      "metadata": {
        "id": "N076QBGOGqg_"
      },
      "source": [
        ""
      ],
      "execution_count": 39,
      "outputs": []
    }
  ]
}